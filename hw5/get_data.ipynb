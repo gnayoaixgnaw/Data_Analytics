{
 "cells": [
  {
   "cell_type": "code",
   "execution_count": 2,
   "metadata": {},
   "outputs": [
    {
     "name": "stdout",
     "output_type": "stream",
     "text": [
      "1\n"
     ]
    }
   ],
   "source": [
    "import urllib\n",
    "import requests\n",
    "from bs4 import BeautifulSoup\n",
    "import csv\n",
    "import pandas as pd\n",
    "\n",
    "query = 'Fitness'\n",
    "query = query.replace(' ', '+')\n",
    "url = f\"https://news.google.com/search?q={query}\"\n",
    "\n",
    "USER_AGENT = \"Mozilla/5.0 (Macintosh; Intel Mac OS X 10.14; rv:65.0) Gecko/20100101 Firefox/65.0\"\n",
    "\n",
    "headers = {\"user-agent\" : USER_AGENT}\n",
    "response = requests.get(url,headers = headers)\n",
    "\n",
    "if response.status_code == 200:\n",
    "    print('1')\n",
    "    soup = BeautifulSoup(response.content, \"html.parser\")\n",
    "\n",
    "    result = []\n",
    "    num = 0\n",
    "    \n",
    "    result_list = []\n",
    "    for i in soup.find_all('div',class_= 'NiLAwe y6IFtc R7GTQ keNKEd j7vNaf nID9nc') :\n",
    "        link = i.find('div', class_= 'xrnccd')\n",
    "        titel = link.find('article')\n",
    "\n",
    "        titel1 = titel.find('h3')\n",
    "        titel2 = titel1.find('a').text\n",
    "\n",
    "        abstract = titel.find('div', class_=\"Da10Tb Rai5ob\")\n",
    "        abstract1 = abstract.find('span').text\n",
    "        # item = {\n",
    "        #     \"no\":num,\n",
    "        #     \"title\":titel2,\n",
    "        #     \"abstract\":abstract1\n",
    "        # }\n",
    "        a = titel2 + abstract1\n",
    "        result_list.append(abstract1)\n",
    "        num +=1\n",
    "        if num == 50:\n",
    "            break\n",
    "    df = pd.DataFrame() #创建一个空的dataframe\n",
    "    df[\"text\"] = result_list\n",
    "    df.to_csv('result.csv')\n",
    "        \n",
    "        \n",
    "\n",
    "\n"
   ]
  },
  {
   "cell_type": "code",
   "execution_count": null,
   "metadata": {},
   "outputs": [],
   "source": []
  }
 ],
 "metadata": {
  "kernelspec": {
   "display_name": "Python 3",
   "language": "python",
   "name": "python3"
  },
  "language_info": {
   "codemirror_mode": {
    "name": "ipython",
    "version": 3
   },
   "file_extension": ".py",
   "mimetype": "text/x-python",
   "name": "python",
   "nbconvert_exporter": "python",
   "pygments_lexer": "ipython3",
   "version": "3.8.3"
  }
 },
 "nbformat": 4,
 "nbformat_minor": 4
}
